{
 "cells": [
  {
   "cell_type": "code",
   "execution_count": 1,
   "id": "b294e234-ff54-481e-8695-731719fe7208",
   "metadata": {},
   "outputs": [],
   "source": [
    "##habdling outliers using numpy and pandas\n",
    "import numpy as np\n",
    "import pandas as pd\n",
    "import seaborn as sns"
   ]
  },
  {
   "cell_type": "code",
   "execution_count": 2,
   "id": "427d6afb-da57-4786-9060-9bb535c7b50c",
   "metadata": {},
   "outputs": [],
   "source": [
    "##Creating a list with outliers :\n",
    "list=[1,2,3,4,5,6,8,9,7,6,5,4,3,1,3,4,5,7,80,674,3,5,6,7,8,4,.009]"
   ]
  },
  {
   "cell_type": "code",
   "execution_count": 3,
   "id": "1a1ac6f3-8794-4456-889f-db89022a1e3d",
   "metadata": {},
   "outputs": [
    {
     "data": {
      "text/plain": [
       "<AxesSubplot: >"
      ]
     },
     "execution_count": 3,
     "metadata": {},
     "output_type": "execute_result"
    },
    {
     "data": {
      "image/png": "[encoded data removed]",
      "text/plain": [
       "<Figure size 640x480 with 1 Axes>"
      ]
     },
     "metadata": {},
     "output_type": "display_data"
    }
   ],
   "source": [
    "##visualize outliers using seaborn\n",
    "sns.boxplot(list)"
   ]
  },
  {
   "cell_type": "code",
   "execution_count": 14,
   "id": "63627756-eb61-4b3f-a90a-69336308fcad",
   "metadata": {},
   "outputs": [],
   "source": [
    "#calculating Q1,Q3\n",
    "Q1=np.percentile(list,25)"
   ]
  },
  {
   "cell_type": "code",
   "execution_count": 22,
   "id": "e4d67f6d-86a9-4cdf-9a58-f54bcacbe027",
   "metadata": {},
   "outputs": [
    {
     "data": {
      "text/plain": [
       "3.0"
      ]
     },
     "execution_count": 22,
     "metadata": {},
     "output_type": "execute_result"
    }
   ],
   "source": [
    "Q1\n"
   ]
  },
  {
   "cell_type": "code",
   "execution_count": 16,
   "id": "5f54e13e-72b1-4c6f-b4de-acd1846a8b1a",
   "metadata": {},
   "outputs": [],
   "source": [
    "Q3=np.percentile(list,75)"
   ]
  },
  {
   "cell_type": "code",
   "execution_count": 17,
   "id": "1acbaaf0-ba0c-4f65-bc1e-d9f1e74668f6",
   "metadata": {},
   "outputs": [
    {
     "data": {
      "text/plain": [
       "7.0"
      ]
     },
     "execution_count": 17,
     "metadata": {},
     "output_type": "execute_result"
    }
   ],
   "source": [
    "Q3"
   ]
  },
  {
   "cell_type": "code",
   "execution_count": 23,
   "id": "ac274a3a-5ad1-432a-9659-7a2335786b2d",
   "metadata": {},
   "outputs": [],
   "source": [
    "IQR=Q3-Q1 ## Calculating IQR\n"
   ]
  },
  {
   "cell_type": "code",
   "execution_count": 19,
   "id": "19d4d9f6-3d8e-40a9-b06f-913b6cda778b",
   "metadata": {},
   "outputs": [],
   "source": [
    "##Calculation of Upper Bound and Lower Bound\n",
    "upper_bound=Q3+1.5*IQR\n",
    "lower_bound=Q1-1.5*IQR"
   ]
  },
  {
   "cell_type": "code",
   "execution_count": 20,
   "id": "3f7cdce4-cd8a-45fb-8d9b-30e811cf64e1",
   "metadata": {},
   "outputs": [],
   "source": [
    "## Creating a fresh list without the outliers\n",
    "clean_list=[]\n",
    "for i in list:\n",
    "    if i>=lower_bound and i<=upper_bound:\n",
    "        clean_list.append(i)\n",
    "\n",
    "        "
   ]
  },
  {
   "cell_type": "code",
   "execution_count": 21,
   "id": "bbc0f9ab-f2f8-4fb6-924e-4612eb65d926",
   "metadata": {},
   "outputs": [
    {
     "data": {
      "text/plain": [
       "[1, 2, 3, 4, 5, 6, 8, 9, 7, 6, 5, 4, 3, 1, 3, 4, 5, 7, 3, 5, 6, 7, 8, 4, 0.009]"
      ]
     },
     "execution_count": 21,
     "metadata": {},
     "output_type": "execute_result"
    }
   ],
   "source": [
    "clean_list"
   ]
  },
  {
   "cell_type": "code",
   "execution_count": 24,
   "id": "9069bf64-6203-4923-b7c9-6e51f743ca83",
   "metadata": {},
   "outputs": [],
   "source": [
    "##Creating a dataframe with outliers"
   ]
  },
  {
   "cell_type": "code",
   "execution_count": 25,
   "id": "4935f413-82e9-497c-9c6a-7d81f4a425a9",
   "metadata": {},
   "outputs": [
    {
     "name": "stdout",
     "output_type": "stream",
     "text": [
      "             A           B\n",
      "0    54.967142   22.923146\n",
      "1    48.617357   27.896773\n",
      "2    56.476885   28.286427\n",
      "3    65.230299   25.988614\n",
      "4    47.658466   29.193571\n",
      "5   200.000000   32.020254\n",
      "6    65.792128   39.430930\n",
      "7    57.674347   30.872889\n",
      "8    45.305256   31.287752\n",
      "9    55.425600   29.627770\n",
      "10   45.365823 -100.000000\n",
      "11   45.342702   29.867431\n",
      "12   52.419623   30.301151\n",
      "13   30.867198   42.316211\n",
      "14   32.750822   29.038195\n"
     ]
    }
   ],
   "source": [
    "import pandas as pd\n",
    "import numpy as np\n",
    "\n",
    "# Create a DataFrame with random data\n",
    "np.random.seed(42)\n",
    "data = {\n",
    "    'A': np.random.normal(50, 10, 100),  # Normal distribution (mean=50, std=10)\n",
    "    'B': np.random.normal(30, 5, 100)    # Normal distribution (mean=30, std=5)\n",
    "}\n",
    "\n",
    "df = pd.DataFrame(data)\n",
    "\n",
    "# Introduce outliers\n",
    "df.loc[5, 'A'] = 200  # Add a high outlier in column 'A'\n",
    "df.loc[10, 'B'] = -100  # Add a low outlier in column 'B'\n",
    "\n",
    "print(df.head(15))\n"
   ]
  },
  {
   "cell_type": "code",
   "execution_count": 26,
   "id": "7ead9d6c-d79f-43a5-a0d7-d736cb65eda7",
   "metadata": {},
   "outputs": [
    {
     "data": {
      "text/plain": [
       "<AxesSubplot: >"
      ]
     },
     "execution_count": 26,
     "metadata": {},
     "output_type": "execute_result"
    },
    {
     "data": {
      "image/png": "[encoded data removed]",
      "text/plain": [
       "<Figure size 640x480 with 1 Axes>"
      ]
     },
     "metadata": {},
     "output_type": "display_data"
    }
   ],
   "source": [
    "sns.boxplot(df['A'])"
   ]
  },
  {
   "cell_type": "code",
   "execution_count": 28,
   "id": "72edf913-6309-46f3-a3e9-f7be48f7e69f",
   "metadata": {},
   "outputs": [],
   "source": [
    "##Here we can see that there are outliers in A feature\n",
    "Q1=df['A'].quantile(.25)"
   ]
  },
  {
   "cell_type": "code",
   "execution_count": 29,
   "id": "0227ba7c-c69f-499b-88e6-c0c7f0230df3",
   "metadata": {},
   "outputs": [
    {
     "data": {
      "text/plain": [
       "43.99094329503547"
      ]
     },
     "execution_count": 29,
     "metadata": {},
     "output_type": "execute_result"
    }
   ],
   "source": [
    "Q1"
   ]
  },
  {
   "cell_type": "code",
   "execution_count": 30,
   "id": "dfa770bb-96ce-47ff-bb12-d936d30a4523",
   "metadata": {},
   "outputs": [],
   "source": [
    "Q3=df['A'].quantile(.75)"
   ]
  },
  {
   "cell_type": "code",
   "execution_count": 31,
   "id": "3a9389a4-8a81-4650-99e4-69428fb548ea",
   "metadata": {},
   "outputs": [
    {
     "data": {
      "text/plain": [
       "55.00852473036764"
      ]
     },
     "execution_count": 31,
     "metadata": {},
     "output_type": "execute_result"
    }
   ],
   "source": [
    "Q3"
   ]
  },
  {
   "cell_type": "code",
   "execution_count": 33,
   "id": "6426216e-e3bb-4382-b1d0-8c80788aef46",
   "metadata": {},
   "outputs": [],
   "source": [
    "IQR=Q3-Q1 ## Calculating IQR\n",
    "\n",
    "##Calculation of Upper Bound and Lower Bound\n",
    "upper_bound=Q3+1.5*IQR\n",
    "lower_bound=Q1-1.5*IQR"
   ]
  },
  {
   "cell_type": "code",
   "execution_count": 37,
   "id": "fe263233-6932-4678-af58-747692e6cee5",
   "metadata": {},
   "outputs": [],
   "source": [
    "df_clean=df[(df['A']>=lower_bound) & (df['A']<=upper_bound)]"
   ]
  },
  {
   "cell_type": "code",
   "execution_count": 38,
   "id": "b0501dc8-690a-4e82-b036-ffb0ba52fe78",
   "metadata": {},
   "outputs": [
    {
     "data": {
      "text/html": [
       "<div>\n",
       "<style scoped>\n",
       "    .dataframe tbody tr th:only-of-type {\n",
       "        vertical-align: middle;\n",
       "    }\n",
       "\n",
       "    .dataframe tbody tr th {\n",
       "        vertical-align: top;\n",
       "    }\n",
       "\n",
       "    .dataframe thead th {\n",
       "        text-align: right;\n",
       "    }\n",
       "</style>\n",
       "<table border=\"1\" class=\"dataframe\">\n",
       "  <thead>\n",
       "    <tr style=\"text-align: right;\">\n",
       "      <th></th>\n",
       "      <th>A</th>\n",
       "      <th>B</th>\n",
       "    </tr>\n",
       "  </thead>\n",
       "  <tbody>\n",
       "    <tr>\n",
       "      <th>0</th>\n",
       "      <td>54.967142</td>\n",
       "      <td>22.923146</td>\n",
       "    </tr>\n",
       "    <tr>\n",
       "      <th>1</th>\n",
       "      <td>48.617357</td>\n",
       "      <td>27.896773</td>\n",
       "    </tr>\n",
       "    <tr>\n",
       "      <th>2</th>\n",
       "      <td>56.476885</td>\n",
       "      <td>28.286427</td>\n",
       "    </tr>\n",
       "    <tr>\n",
       "      <th>3</th>\n",
       "      <td>65.230299</td>\n",
       "      <td>25.988614</td>\n",
       "    </tr>\n",
       "    <tr>\n",
       "      <th>4</th>\n",
       "      <td>47.658466</td>\n",
       "      <td>29.193571</td>\n",
       "    </tr>\n",
       "    <tr>\n",
       "      <th>...</th>\n",
       "      <td>...</td>\n",
       "      <td>...</td>\n",
       "    </tr>\n",
       "    <tr>\n",
       "      <th>95</th>\n",
       "      <td>35.364851</td>\n",
       "      <td>31.926587</td>\n",
       "    </tr>\n",
       "    <tr>\n",
       "      <th>96</th>\n",
       "      <td>52.961203</td>\n",
       "      <td>25.580713</td>\n",
       "    </tr>\n",
       "    <tr>\n",
       "      <th>97</th>\n",
       "      <td>52.610553</td>\n",
       "      <td>30.768626</td>\n",
       "    </tr>\n",
       "    <tr>\n",
       "      <th>98</th>\n",
       "      <td>50.051135</td>\n",
       "      <td>30.291044</td>\n",
       "    </tr>\n",
       "    <tr>\n",
       "      <th>99</th>\n",
       "      <td>47.654129</td>\n",
       "      <td>24.285149</td>\n",
       "    </tr>\n",
       "  </tbody>\n",
       "</table>\n",
       "<p>98 rows × 2 columns</p>\n",
       "</div>"
      ],
      "text/plain": [
       "            A          B\n",
       "0   54.967142  22.923146\n",
       "1   48.617357  27.896773\n",
       "2   56.476885  28.286427\n",
       "3   65.230299  25.988614\n",
       "4   47.658466  29.193571\n",
       "..        ...        ...\n",
       "95  35.364851  31.926587\n",
       "96  52.961203  25.580713\n",
       "97  52.610553  30.768626\n",
       "98  50.051135  30.291044\n",
       "99  47.654129  24.285149\n",
       "\n",
       "[98 rows x 2 columns]"
      ]
     },
     "execution_count": 38,
     "metadata": {},
     "output_type": "execute_result"
    }
   ],
   "source": [
    "df_clean"
   ]
  },
  {
   "cell_type": "code",
   "execution_count": 39,
   "id": "ff649796-06c3-4219-bd57-a6b864f59b3d",
   "metadata": {},
   "outputs": [
    {
     "data": {
      "text/plain": [
       "<AxesSubplot: >"
      ]
     },
     "execution_count": 39,
     "metadata": {},
     "output_type": "execute_result"
    },
    {
     "data": {
      "image/png": "[encoded data removed]",
      "text/plain": [
       "<Figure size 640x480 with 1 Axes>"
      ]
     },
     "metadata": {},
     "output_type": "display_data"
    }
   ],
   "source": [
    "sns.boxplot(df_clean)\n",
    "##Shows outlier has been removed from feature A Same can be done for feature B to get rid of the outliers "
   ]
  },
  {
   "cell_type": "code",
   "execution_count": null,
   "id": "cea6e5f2-0cd2-43ee-93ad-1430e5b9d73c",
   "metadata": {},
   "outputs": [],
   "source": []
  }
 ],
 "metadata": {
  "kernelspec": {
   "display_name": "Python 3 (ipykernel)",
   "language": "python",
   "name": "python3"
  },
  "language_info": {
   "codemirror_mode": {
    "name": "ipython",
    "version": 3
   },
   "file_extension": ".py",
   "mimetype": "text/x-python",
   "name": "python",
   "nbconvert_exporter": "python",
   "pygments_lexer": "ipython3",
   "version": "3.10.8"
  }
 },
 "nbformat": 4,
 "nbformat_minor": 5
}
