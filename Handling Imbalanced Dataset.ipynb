{
 "cells": [
  {
   "cell_type": "code",
   "execution_count": 14,
   "id": "d905d125-f4d8-4922-baae-ef71700778e1",
   "metadata": {},
   "outputs": [],
   "source": [
    "import numpy as np\n",
    "import pandas as pd"
   ]
  },
  {
   "cell_type": "code",
   "execution_count": 2,
   "id": "08a5fc0b-42ba-4e58-b6ec-cd9d5b88f7a5",
   "metadata": {},
   "outputs": [],
   "source": [
    "np.random.seed(123)"
   ]
  },
  {
   "cell_type": "code",
   "execution_count": 11,
   "id": "03a235c2-7d6d-47f6-86e0-668bb586f886",
   "metadata": {},
   "outputs": [],
   "source": [
    "n_samples=1000\n",
    "class_0_ratio=.9\n",
    "n_class_0=int(n_samples*class_0_ratio)\n",
    "n_class_1=n_samples-n_class_0"
   ]
  },
  {
   "cell_type": "code",
   "execution_count": 12,
   "id": "4e65b075-72d5-4ed7-a780-37f0ea246909",
   "metadata": {},
   "outputs": [
    {
     "data": {
      "text/plain": [
       "(900, 100)"
      ]
     },
     "execution_count": 12,
     "metadata": {},
     "output_type": "execute_result"
    }
   ],
   "source": [
    "n_class_0,n_class_1"
   ]
  },
  {
   "cell_type": "code",
   "execution_count": 15,
   "id": "4336c2b7-bce7-467d-861b-6bb474d38777",
   "metadata": {},
   "outputs": [],
   "source": [
    "## CREATE MY DATAFRAME WITH IMBALANCED DATASET\n",
    "class_0 = pd.DataFrame({\n",
    "    'feature_1': np.random.normal(loc=0, scale=1, size=n_class_0),\n",
    "    'feature_2': np.random.normal(loc=0, scale=1, size=n_class_0),\n",
    "    'target': [0] * n_class_0\n",
    "})\n",
    "\n",
    "class_1 = pd.DataFrame({\n",
    "    'feature_1': np.random.normal(loc=2, scale=1, size=n_class_1),\n",
    "    'feature_2': np.random.normal(loc=2, scale=1, size=n_class_1),\n",
    "    'target': [1] * n_class_1\n",
    "})"
   ]
  },
  {
   "cell_type": "code",
   "execution_count": 16,
   "id": "cefb6e81-69b0-452d-b82c-380681b340f7",
   "metadata": {},
   "outputs": [],
   "source": [
    "df=pd.concat([class_0,class_1]).reset_index(drop=True)"
   ]
  },
  {
   "cell_type": "code",
   "execution_count": 19,
   "id": "56f70d0e-7e5b-46ae-a717-b252a888951d",
   "metadata": {},
   "outputs": [
    {
     "data": {
      "text/html": [
       "<div>\n",
       "<style scoped>\n",
       "    .dataframe tbody tr th:only-of-type {\n",
       "        vertical-align: middle;\n",
       "    }\n",
       "\n",
       "    .dataframe tbody tr th {\n",
       "        vertical-align: top;\n",
       "    }\n",
       "\n",
       "    .dataframe thead th {\n",
       "        text-align: right;\n",
       "    }\n",
       "</style>\n",
       "<table border=\"1\" class=\"dataframe\">\n",
       "  <thead>\n",
       "    <tr style=\"text-align: right;\">\n",
       "      <th></th>\n",
       "      <th>feature_1</th>\n",
       "      <th>feature_2</th>\n",
       "      <th>target</th>\n",
       "    </tr>\n",
       "  </thead>\n",
       "  <tbody>\n",
       "    <tr>\n",
       "      <th>0</th>\n",
       "      <td>-1.085631</td>\n",
       "      <td>0.551302</td>\n",
       "      <td>0</td>\n",
       "    </tr>\n",
       "    <tr>\n",
       "      <th>1</th>\n",
       "      <td>0.997345</td>\n",
       "      <td>0.419589</td>\n",
       "      <td>0</td>\n",
       "    </tr>\n",
       "    <tr>\n",
       "      <th>2</th>\n",
       "      <td>0.282978</td>\n",
       "      <td>1.815652</td>\n",
       "      <td>0</td>\n",
       "    </tr>\n",
       "    <tr>\n",
       "      <th>3</th>\n",
       "      <td>-1.506295</td>\n",
       "      <td>-0.252750</td>\n",
       "      <td>0</td>\n",
       "    </tr>\n",
       "    <tr>\n",
       "      <th>4</th>\n",
       "      <td>-0.578600</td>\n",
       "      <td>-0.292004</td>\n",
       "      <td>0</td>\n",
       "    </tr>\n",
       "  </tbody>\n",
       "</table>\n",
       "</div>"
      ],
      "text/plain": [
       "   feature_1  feature_2  target\n",
       "0  -1.085631   0.551302       0\n",
       "1   0.997345   0.419589       0\n",
       "2   0.282978   1.815652       0\n",
       "3  -1.506295  -0.252750       0\n",
       "4  -0.578600  -0.292004       0"
      ]
     },
     "execution_count": 19,
     "metadata": {},
     "output_type": "execute_result"
    }
   ],
   "source": [
    "df.head()"
   ]
  },
  {
   "cell_type": "code",
   "execution_count": 22,
   "id": "c58d4d92-163d-4456-a551-be49e028ec2e",
   "metadata": {},
   "outputs": [
    {
     "data": {
      "text/plain": [
       "0    900\n",
       "1    100\n",
       "Name: target, dtype: int64"
      ]
     },
     "execution_count": 22,
     "metadata": {},
     "output_type": "execute_result"
    }
   ],
   "source": [
    "df['target'].value_counts()"
   ]
  },
  {
   "cell_type": "code",
   "execution_count": 36,
   "id": "b8301c7a-a27f-4ef1-8bd7-03fd6340bf02",
   "metadata": {},
   "outputs": [],
   "source": [
    "##Upsampling\n",
    "df_majority=df[df['target']==0]\n",
    "df_minority=df[df['target']==1]"
   ]
  },
  {
   "cell_type": "code",
   "execution_count": 37,
   "id": "ccec9377-81ec-4147-995f-787a1c51f4c0",
   "metadata": {},
   "outputs": [
    {
     "data": {
      "text/html": [
       "<div>\n",
       "<style scoped>\n",
       "    .dataframe tbody tr th:only-of-type {\n",
       "        vertical-align: middle;\n",
       "    }\n",
       "\n",
       "    .dataframe tbody tr th {\n",
       "        vertical-align: top;\n",
       "    }\n",
       "\n",
       "    .dataframe thead th {\n",
       "        text-align: right;\n",
       "    }\n",
       "</style>\n",
       "<table border=\"1\" class=\"dataframe\">\n",
       "  <thead>\n",
       "    <tr style=\"text-align: right;\">\n",
       "      <th></th>\n",
       "      <th>feature_1</th>\n",
       "      <th>feature_2</th>\n",
       "      <th>target</th>\n",
       "    </tr>\n",
       "  </thead>\n",
       "  <tbody>\n",
       "    <tr>\n",
       "      <th>0</th>\n",
       "      <td>-1.085631</td>\n",
       "      <td>0.551302</td>\n",
       "      <td>0</td>\n",
       "    </tr>\n",
       "    <tr>\n",
       "      <th>1</th>\n",
       "      <td>0.997345</td>\n",
       "      <td>0.419589</td>\n",
       "      <td>0</td>\n",
       "    </tr>\n",
       "    <tr>\n",
       "      <th>2</th>\n",
       "      <td>0.282978</td>\n",
       "      <td>1.815652</td>\n",
       "      <td>0</td>\n",
       "    </tr>\n",
       "    <tr>\n",
       "      <th>3</th>\n",
       "      <td>-1.506295</td>\n",
       "      <td>-0.252750</td>\n",
       "      <td>0</td>\n",
       "    </tr>\n",
       "    <tr>\n",
       "      <th>4</th>\n",
       "      <td>-0.578600</td>\n",
       "      <td>-0.292004</td>\n",
       "      <td>0</td>\n",
       "    </tr>\n",
       "  </tbody>\n",
       "</table>\n",
       "</div>"
      ],
      "text/plain": [
       "   feature_1  feature_2  target\n",
       "0  -1.085631   0.551302       0\n",
       "1   0.997345   0.419589       0\n",
       "2   0.282978   1.815652       0\n",
       "3  -1.506295  -0.252750       0\n",
       "4  -0.578600  -0.292004       0"
      ]
     },
     "execution_count": 37,
     "metadata": {},
     "output_type": "execute_result"
    }
   ],
   "source": [
    "df_majority.head()"
   ]
  },
  {
   "cell_type": "code",
   "execution_count": 38,
   "id": "e94e9632-f5d0-454e-a540-1e5120376e6d",
   "metadata": {},
   "outputs": [
    {
     "data": {
      "text/html": [
       "<div>\n",
       "<style scoped>\n",
       "    .dataframe tbody tr th:only-of-type {\n",
       "        vertical-align: middle;\n",
       "    }\n",
       "\n",
       "    .dataframe tbody tr th {\n",
       "        vertical-align: top;\n",
       "    }\n",
       "\n",
       "    .dataframe thead th {\n",
       "        text-align: right;\n",
       "    }\n",
       "</style>\n",
       "<table border=\"1\" class=\"dataframe\">\n",
       "  <thead>\n",
       "    <tr style=\"text-align: right;\">\n",
       "      <th></th>\n",
       "      <th>feature_1</th>\n",
       "      <th>feature_2</th>\n",
       "      <th>target</th>\n",
       "    </tr>\n",
       "  </thead>\n",
       "  <tbody>\n",
       "    <tr>\n",
       "      <th>900</th>\n",
       "      <td>1.699768</td>\n",
       "      <td>2.139033</td>\n",
       "      <td>1</td>\n",
       "    </tr>\n",
       "    <tr>\n",
       "      <th>901</th>\n",
       "      <td>1.367739</td>\n",
       "      <td>2.025577</td>\n",
       "      <td>1</td>\n",
       "    </tr>\n",
       "    <tr>\n",
       "      <th>902</th>\n",
       "      <td>1.795683</td>\n",
       "      <td>1.803557</td>\n",
       "      <td>1</td>\n",
       "    </tr>\n",
       "    <tr>\n",
       "      <th>903</th>\n",
       "      <td>2.213696</td>\n",
       "      <td>3.312255</td>\n",
       "      <td>1</td>\n",
       "    </tr>\n",
       "    <tr>\n",
       "      <th>904</th>\n",
       "      <td>3.033878</td>\n",
       "      <td>3.187417</td>\n",
       "      <td>1</td>\n",
       "    </tr>\n",
       "  </tbody>\n",
       "</table>\n",
       "</div>"
      ],
      "text/plain": [
       "     feature_1  feature_2  target\n",
       "900   1.699768   2.139033       1\n",
       "901   1.367739   2.025577       1\n",
       "902   1.795683   1.803557       1\n",
       "903   2.213696   3.312255       1\n",
       "904   3.033878   3.187417       1"
      ]
     },
     "execution_count": 38,
     "metadata": {},
     "output_type": "execute_result"
    }
   ],
   "source": [
    "df_minority.head()"
   ]
  },
  {
   "cell_type": "code",
   "execution_count": 2,
   "id": "755c22af-efd9-40a8-82c7-d1e433e923b0",
   "metadata": {},
   "outputs": [],
   "source": [
    "from sklearn.utils import resample"
   ]
  },
  {
   "cell_type": "code",
   "execution_count": 39,
   "id": "c0d57b0c-92b7-43b6-8eb8-bc4f9279bd83",
   "metadata": {},
   "outputs": [],
   "source": [
    "df_upsample_minority=resample(df_minority,replace='True',n_samples=len(df_majority),random_state=42) ##To match the values of majortiy"
   ]
  },
  {
   "cell_type": "code",
   "execution_count": 40,
   "id": "992a12ab-ba80-4e8a-9031-52c1927eb8a3",
   "metadata": {},
   "outputs": [
    {
     "data": {
      "text/plain": [
       "(900, 3)"
      ]
     },
     "execution_count": 40,
     "metadata": {},
     "output_type": "execute_result"
    }
   ],
   "source": [
    "df_upsample_minority.shape"
   ]
  },
  {
   "cell_type": "code",
   "execution_count": 42,
   "id": "208e7478-f5ba-4d69-bed5-ee1b4b626137",
   "metadata": {},
   "outputs": [],
   "source": [
    "df_upsample=pd.concat([df_majority,df_upsample_minority])"
   ]
  },
  {
   "cell_type": "code",
   "execution_count": 50,
   "id": "268144ee-1bef-4979-a4a3-12a7be77ef4a",
   "metadata": {},
   "outputs": [
    {
     "data": {
      "text/plain": [
       "0    900\n",
       "1    900\n",
       "Name: target, dtype: int64"
      ]
     },
     "execution_count": 50,
     "metadata": {},
     "output_type": "execute_result"
    }
   ],
   "source": [
    "df_upsample['target'].value_counts()"
   ]
  },
  {
   "cell_type": "code",
   "execution_count": 52,
   "id": "ac62dffd-6d9b-4134-b4d8-7e31ef6bd602",
   "metadata": {},
   "outputs": [
    {
     "data": {
      "text/plain": [
       "'imbalanced_dataset.csv'"
      ]
     },
     "execution_count": 52,
     "metadata": {},
     "output_type": "execute_result"
    }
   ],
   "source": [
    "## Generating another dataframe\n",
    "\n",
    "import pandas as pd\n",
    "import numpy as np\n",
    "\n",
    "# Set random seed for reproducibility\n",
    "np.random.seed(42)\n",
    "\n",
    "# Generate a dataset with 1000 samples\n",
    "n_samples = 1000\n",
    "\n",
    "# Features (randomly generated)\n",
    "features = {\n",
    "    'Feature1': np.random.normal(0, 1, n_samples),\n",
    "    'Feature2': np.random.normal(5, 2, n_samples),\n",
    "    'Feature3': np.random.normal(-3, 1.5, n_samples)\n",
    "}\n",
    "\n",
    "# Target variable with imbalance (e.g., 95% of class 0, 5% of class 1)\n",
    "target = np.zeros(n_samples)\n",
    "target[:50] = 1  # 5% of the samples are class 1\n",
    "np.random.shuffle(target)\n",
    "\n",
    "# Combine features and target into a DataFrame\n",
    "data = pd.DataFrame(features)\n",
    "data['Target'] = target\n",
    "\n",
    "# Save the imbalanced dataset to a CSV file\n",
    "imbalanced_file_path = 'imbalanced_dataset.csv'\n",
    "data.to_csv(imbalanced_file_path, index=False)\n",
    "\n",
    "imbalanced_file_path\n"
   ]
  },
  {
   "cell_type": "code",
   "execution_count": 53,
   "id": "a6a4ed5b-e422-4508-8978-991c50efad75",
   "metadata": {},
   "outputs": [],
   "source": [
    "df_main=pd.read_csv('imbalanced_dataset.csv')"
   ]
  },
  {
   "cell_type": "code",
   "execution_count": 54,
   "id": "0d5bb726-26bc-48a8-96bd-11778e2ba1e5",
   "metadata": {},
   "outputs": [
    {
     "data": {
      "text/html": [
       "<div>\n",
       "<style scoped>\n",
       "    .dataframe tbody tr th:only-of-type {\n",
       "        vertical-align: middle;\n",
       "    }\n",
       "\n",
       "    .dataframe tbody tr th {\n",
       "        vertical-align: top;\n",
       "    }\n",
       "\n",
       "    .dataframe thead th {\n",
       "        text-align: right;\n",
       "    }\n",
       "</style>\n",
       "<table border=\"1\" class=\"dataframe\">\n",
       "  <thead>\n",
       "    <tr style=\"text-align: right;\">\n",
       "      <th></th>\n",
       "      <th>Feature1</th>\n",
       "      <th>Feature2</th>\n",
       "      <th>Feature3</th>\n",
       "      <th>Target</th>\n",
       "    </tr>\n",
       "  </thead>\n",
       "  <tbody>\n",
       "    <tr>\n",
       "      <th>0</th>\n",
       "      <td>0.496714</td>\n",
       "      <td>7.798711</td>\n",
       "      <td>-4.012767</td>\n",
       "      <td>0.0</td>\n",
       "    </tr>\n",
       "    <tr>\n",
       "      <th>1</th>\n",
       "      <td>-0.138264</td>\n",
       "      <td>6.849267</td>\n",
       "      <td>-3.216778</td>\n",
       "      <td>0.0</td>\n",
       "    </tr>\n",
       "    <tr>\n",
       "      <th>2</th>\n",
       "      <td>0.647689</td>\n",
       "      <td>5.119261</td>\n",
       "      <td>-4.188630</td>\n",
       "      <td>0.0</td>\n",
       "    </tr>\n",
       "    <tr>\n",
       "      <th>3</th>\n",
       "      <td>1.523030</td>\n",
       "      <td>3.706126</td>\n",
       "      <td>-3.461942</td>\n",
       "      <td>0.0</td>\n",
       "    </tr>\n",
       "    <tr>\n",
       "      <th>4</th>\n",
       "      <td>-0.234153</td>\n",
       "      <td>6.396447</td>\n",
       "      <td>-5.840422</td>\n",
       "      <td>0.0</td>\n",
       "    </tr>\n",
       "  </tbody>\n",
       "</table>\n",
       "</div>"
      ],
      "text/plain": [
       "   Feature1  Feature2  Feature3  Target\n",
       "0  0.496714  7.798711 -4.012767     0.0\n",
       "1 -0.138264  6.849267 -3.216778     0.0\n",
       "2  0.647689  5.119261 -4.188630     0.0\n",
       "3  1.523030  3.706126 -3.461942     0.0\n",
       "4 -0.234153  6.396447 -5.840422     0.0"
      ]
     },
     "execution_count": 54,
     "metadata": {},
     "output_type": "execute_result"
    }
   ],
   "source": [
    "df_main.head()"
   ]
  },
  {
   "cell_type": "code",
   "execution_count": 55,
   "id": "2bcd6956-20eb-4c62-8f4e-e6b1bb10d4d1",
   "metadata": {},
   "outputs": [
    {
     "data": {
      "text/plain": [
       "0.0    950\n",
       "1.0     50\n",
       "Name: Target, dtype: int64"
      ]
     },
     "execution_count": 55,
     "metadata": {},
     "output_type": "execute_result"
    }
   ],
   "source": [
    "df_main['Target'].value_counts()"
   ]
  },
  {
   "cell_type": "code",
   "execution_count": 68,
   "id": "43a98ccb-86c1-45f0-be49-2223ee765b6f",
   "metadata": {},
   "outputs": [],
   "source": [
    "df_majority=df[df_main['Target']==0.0]"
   ]
  },
  {
   "cell_type": "code",
   "execution_count": 69,
   "id": "54951e11-6561-44bc-9e8f-fcc9d346fd75",
   "metadata": {},
   "outputs": [],
   "source": [
    "df_minority=df[df_main['Target']==1.0]"
   ]
  },
  {
   "cell_type": "code",
   "execution_count": 70,
   "id": "d0d14bc2-3574-4171-beb0-b6d048cc9069",
   "metadata": {},
   "outputs": [],
   "source": [
    "from sklearn.utils import resample"
   ]
  },
  {
   "cell_type": "code",
   "execution_count": 71,
   "id": "87aea0ff-8ce6-4432-a6c5-1ef2cbcc1689",
   "metadata": {},
   "outputs": [],
   "source": [
    "df_upsample=resample(df_minority,replace='True',n_samples=len(df_majority),random_state=43)"
   ]
  },
  {
   "cell_type": "code",
   "execution_count": 82,
   "id": "96fe4537-5155-475f-856c-217eeae59a4c",
   "metadata": {},
   "outputs": [
    {
     "data": {
      "text/plain": [
       "0    820\n",
       "1    130\n",
       "Name: target, dtype: int64"
      ]
     },
     "execution_count": 82,
     "metadata": {},
     "output_type": "execute_result"
    }
   ],
   "source": [
    "df_upsample['target'].value_counts()"
   ]
  },
  {
   "cell_type": "code",
   "execution_count": 74,
   "id": "48a457b4-9415-4c5a-ad83-7bcc4af2761c",
   "metadata": {},
   "outputs": [],
   "source": [
    "df_new_sample=pd.concat([df_upsample,df_majority])"
   ]
  },
  {
   "cell_type": "code",
   "execution_count": 75,
   "id": "7eaea795-bb77-46ea-bc9e-fc12d5e7b5d7",
   "metadata": {},
   "outputs": [
    {
     "data": {
      "text/html": [
       "<div>\n",
       "<style scoped>\n",
       "    .dataframe tbody tr th:only-of-type {\n",
       "        vertical-align: middle;\n",
       "    }\n",
       "\n",
       "    .dataframe tbody tr th {\n",
       "        vertical-align: top;\n",
       "    }\n",
       "\n",
       "    .dataframe thead th {\n",
       "        text-align: right;\n",
       "    }\n",
       "</style>\n",
       "<table border=\"1\" class=\"dataframe\">\n",
       "  <thead>\n",
       "    <tr style=\"text-align: right;\">\n",
       "      <th></th>\n",
       "      <th>feature_1</th>\n",
       "      <th>feature_2</th>\n",
       "      <th>target</th>\n",
       "    </tr>\n",
       "  </thead>\n",
       "  <tbody>\n",
       "    <tr>\n",
       "      <th>83</th>\n",
       "      <td>0.807308</td>\n",
       "      <td>0.609791</td>\n",
       "      <td>0</td>\n",
       "    </tr>\n",
       "    <tr>\n",
       "      <th>42</th>\n",
       "      <td>-0.390900</td>\n",
       "      <td>-1.112364</td>\n",
       "      <td>0</td>\n",
       "    </tr>\n",
       "    <tr>\n",
       "      <th>966</th>\n",
       "      <td>0.671933</td>\n",
       "      <td>1.370988</td>\n",
       "      <td>1</td>\n",
       "    </tr>\n",
       "    <tr>\n",
       "      <th>408</th>\n",
       "      <td>0.035941</td>\n",
       "      <td>-0.813571</td>\n",
       "      <td>0</td>\n",
       "    </tr>\n",
       "    <tr>\n",
       "      <th>320</th>\n",
       "      <td>-0.817668</td>\n",
       "      <td>-1.066613</td>\n",
       "      <td>0</td>\n",
       "    </tr>\n",
       "    <tr>\n",
       "      <th>...</th>\n",
       "      <td>...</td>\n",
       "      <td>...</td>\n",
       "      <td>...</td>\n",
       "    </tr>\n",
       "    <tr>\n",
       "      <th>995</th>\n",
       "      <td>1.376371</td>\n",
       "      <td>2.845701</td>\n",
       "      <td>1</td>\n",
       "    </tr>\n",
       "    <tr>\n",
       "      <th>996</th>\n",
       "      <td>2.239810</td>\n",
       "      <td>0.880077</td>\n",
       "      <td>1</td>\n",
       "    </tr>\n",
       "    <tr>\n",
       "      <th>997</th>\n",
       "      <td>1.131760</td>\n",
       "      <td>1.640703</td>\n",
       "      <td>1</td>\n",
       "    </tr>\n",
       "    <tr>\n",
       "      <th>998</th>\n",
       "      <td>2.902006</td>\n",
       "      <td>0.390305</td>\n",
       "      <td>1</td>\n",
       "    </tr>\n",
       "    <tr>\n",
       "      <th>999</th>\n",
       "      <td>2.697490</td>\n",
       "      <td>2.013570</td>\n",
       "      <td>1</td>\n",
       "    </tr>\n",
       "  </tbody>\n",
       "</table>\n",
       "<p>1900 rows × 3 columns</p>\n",
       "</div>"
      ],
      "text/plain": [
       "     feature_1  feature_2  target\n",
       "83    0.807308   0.609791       0\n",
       "42   -0.390900  -1.112364       0\n",
       "966   0.671933   1.370988       1\n",
       "408   0.035941  -0.813571       0\n",
       "320  -0.817668  -1.066613       0\n",
       "..         ...        ...     ...\n",
       "995   1.376371   2.845701       1\n",
       "996   2.239810   0.880077       1\n",
       "997   1.131760   1.640703       1\n",
       "998   2.902006   0.390305       1\n",
       "999   2.697490   2.013570       1\n",
       "\n",
       "[1900 rows x 3 columns]"
      ]
     },
     "execution_count": 75,
     "metadata": {},
     "output_type": "execute_result"
    }
   ],
   "source": [
    "df_new_sample"
   ]
  },
  {
   "cell_type": "code",
   "execution_count": 77,
   "id": "2a161639-d74e-4b98-906b-4e24a30475f5",
   "metadata": {},
   "outputs": [
    {
     "data": {
      "text/plain": [
       "0    1677\n",
       "1     223\n",
       "Name: target, dtype: int64"
      ]
     },
     "execution_count": 77,
     "metadata": {},
     "output_type": "execute_result"
    }
   ],
   "source": [
    "df_new_sample['target'].value_counts()"
   ]
  },
  {
   "cell_type": "code",
   "execution_count": 78,
   "id": "85ce13d7-c86a-4279-8733-0579efccd4e8",
   "metadata": {},
   "outputs": [
    {
     "data": {
      "text/plain": [
       "950"
      ]
     },
     "execution_count": 78,
     "metadata": {},
     "output_type": "execute_result"
    }
   ],
   "source": []
  },
  {
   "cell_type": "code",
   "execution_count": 1,
   "id": "f7ace012-ba77-49fb-a514-de6d583ae79f",
   "metadata": {},
   "outputs": [
    {
     "name": "stdout",
     "output_type": "stream",
     "text": [
      "Class distribution:\n",
      "0    0.95\n",
      "1    0.05\n",
      "Name: Target, dtype: float64\n"
     ]
    },
    {
     "data": {
      "text/html": [
       "<div>\n",
       "<style scoped>\n",
       "    .dataframe tbody tr th:only-of-type {\n",
       "        vertical-align: middle;\n",
       "    }\n",
       "\n",
       "    .dataframe tbody tr th {\n",
       "        vertical-align: top;\n",
       "    }\n",
       "\n",
       "    .dataframe thead th {\n",
       "        text-align: right;\n",
       "    }\n",
       "</style>\n",
       "<table border=\"1\" class=\"dataframe\">\n",
       "  <thead>\n",
       "    <tr style=\"text-align: right;\">\n",
       "      <th></th>\n",
       "      <th>Feature1</th>\n",
       "      <th>Feature2</th>\n",
       "      <th>Feature3</th>\n",
       "      <th>Feature4</th>\n",
       "      <th>Feature5</th>\n",
       "      <th>Feature6</th>\n",
       "      <th>Feature7</th>\n",
       "      <th>Feature8</th>\n",
       "      <th>Feature9</th>\n",
       "      <th>Feature10</th>\n",
       "      <th>Target</th>\n",
       "    </tr>\n",
       "  </thead>\n",
       "  <tbody>\n",
       "    <tr>\n",
       "      <th>0</th>\n",
       "      <td>-1.670810</td>\n",
       "      <td>-0.555017</td>\n",
       "      <td>0.222569</td>\n",
       "      <td>-1.254161</td>\n",
       "      <td>-1.154315</td>\n",
       "      <td>-2.344112</td>\n",
       "      <td>-0.276889</td>\n",
       "      <td>-0.671721</td>\n",
       "      <td>-1.402369</td>\n",
       "      <td>-0.749472</td>\n",
       "      <td>0</td>\n",
       "    </tr>\n",
       "    <tr>\n",
       "      <th>1</th>\n",
       "      <td>-2.272506</td>\n",
       "      <td>1.106710</td>\n",
       "      <td>0.644907</td>\n",
       "      <td>-1.739205</td>\n",
       "      <td>-0.322992</td>\n",
       "      <td>-1.570785</td>\n",
       "      <td>1.555199</td>\n",
       "      <td>-1.114532</td>\n",
       "      <td>-2.274621</td>\n",
       "      <td>-0.118879</td>\n",
       "      <td>0</td>\n",
       "    </tr>\n",
       "    <tr>\n",
       "      <th>2</th>\n",
       "      <td>-1.315657</td>\n",
       "      <td>0.283053</td>\n",
       "      <td>1.657337</td>\n",
       "      <td>1.119688</td>\n",
       "      <td>0.013667</td>\n",
       "      <td>0.752199</td>\n",
       "      <td>-0.368619</td>\n",
       "      <td>0.807046</td>\n",
       "      <td>-0.339311</td>\n",
       "      <td>0.392204</td>\n",
       "      <td>0</td>\n",
       "    </tr>\n",
       "    <tr>\n",
       "      <th>3</th>\n",
       "      <td>-1.325351</td>\n",
       "      <td>1.502734</td>\n",
       "      <td>0.269946</td>\n",
       "      <td>-1.780626</td>\n",
       "      <td>-0.880073</td>\n",
       "      <td>-1.717930</td>\n",
       "      <td>0.091168</td>\n",
       "      <td>0.788204</td>\n",
       "      <td>0.776229</td>\n",
       "      <td>-0.547307</td>\n",
       "      <td>0</td>\n",
       "    </tr>\n",
       "    <tr>\n",
       "      <th>4</th>\n",
       "      <td>-1.267889</td>\n",
       "      <td>-0.790771</td>\n",
       "      <td>0.952897</td>\n",
       "      <td>-0.073107</td>\n",
       "      <td>-0.670780</td>\n",
       "      <td>-0.682904</td>\n",
       "      <td>0.176484</td>\n",
       "      <td>0.451226</td>\n",
       "      <td>1.015937</td>\n",
       "      <td>-0.233383</td>\n",
       "      <td>0</td>\n",
       "    </tr>\n",
       "  </tbody>\n",
       "</table>\n",
       "</div>"
      ],
      "text/plain": [
       "   Feature1  Feature2  Feature3  Feature4  Feature5  Feature6  Feature7  \\\n",
       "0 -1.670810 -0.555017  0.222569 -1.254161 -1.154315 -2.344112 -0.276889   \n",
       "1 -2.272506  1.106710  0.644907 -1.739205 -0.322992 -1.570785  1.555199   \n",
       "2 -1.315657  0.283053  1.657337  1.119688  0.013667  0.752199 -0.368619   \n",
       "3 -1.325351  1.502734  0.269946 -1.780626 -0.880073 -1.717930  0.091168   \n",
       "4 -1.267889 -0.790771  0.952897 -0.073107 -0.670780 -0.682904  0.176484   \n",
       "\n",
       "   Feature8  Feature9  Feature10  Target  \n",
       "0 -0.671721 -1.402369  -0.749472       0  \n",
       "1 -1.114532 -2.274621  -0.118879       0  \n",
       "2  0.807046 -0.339311   0.392204       0  \n",
       "3  0.788204  0.776229  -0.547307       0  \n",
       "4  0.451226  1.015937  -0.233383       0  "
      ]
     },
     "execution_count": 1,
     "metadata": {},
     "output_type": "execute_result"
    }
   ],
   "source": [
    "##Practice Imbalanced Dataset\n",
    "\n",
    "import pandas as pd\n",
    "import numpy as np\n",
    "from sklearn.datasets import make_classification\n",
    "\n",
    "# Set random seed for reproducibility\n",
    "np.random.seed(42)\n",
    "\n",
    "# Generate an imbalanced dataset\n",
    "X, y = make_classification(n_samples=1000, n_features=10, n_informative=3, n_redundant=2,\n",
    "                           n_classes=2, weights=[0.95, 0.05], flip_y=0, random_state=42)\n",
    "\n",
    "# Create a DataFrame with the features and target\n",
    "df = pd.DataFrame(X, columns=[f'Feature{i}' for i in range(1, 11)])\n",
    "df['Target'] = y\n",
    "\n",
    "# Display the class distribution\n",
    "class_distribution = df['Target'].value_counts(normalize=True)\n",
    "print(\"Class distribution:\")\n",
    "print(class_distribution)\n",
    "\n",
    "# Save the dataset to a CSV file\n",
    "df.to_csv('imbalanced_dataset.csv', index=False)\n",
    "\n",
    "# Display the first few rows of the dataset\n",
    "df.head()\n"
   ]
  },
  {
   "cell_type": "code",
   "execution_count": 2,
   "id": "087946b7-2467-4045-b495-5ed9b8b0efe4",
   "metadata": {},
   "outputs": [
    {
     "data": {
      "text/html": [
       "<div>\n",
       "<style scoped>\n",
       "    .dataframe tbody tr th:only-of-type {\n",
       "        vertical-align: middle;\n",
       "    }\n",
       "\n",
       "    .dataframe tbody tr th {\n",
       "        vertical-align: top;\n",
       "    }\n",
       "\n",
       "    .dataframe thead th {\n",
       "        text-align: right;\n",
       "    }\n",
       "</style>\n",
       "<table border=\"1\" class=\"dataframe\">\n",
       "  <thead>\n",
       "    <tr style=\"text-align: right;\">\n",
       "      <th></th>\n",
       "      <th>Feature1</th>\n",
       "      <th>Feature2</th>\n",
       "      <th>Feature3</th>\n",
       "      <th>Feature4</th>\n",
       "      <th>Feature5</th>\n",
       "      <th>Feature6</th>\n",
       "      <th>Feature7</th>\n",
       "      <th>Feature8</th>\n",
       "      <th>Feature9</th>\n",
       "      <th>Feature10</th>\n",
       "      <th>Target</th>\n",
       "    </tr>\n",
       "  </thead>\n",
       "  <tbody>\n",
       "    <tr>\n",
       "      <th>0</th>\n",
       "      <td>-1.670810</td>\n",
       "      <td>-0.555017</td>\n",
       "      <td>0.222569</td>\n",
       "      <td>-1.254161</td>\n",
       "      <td>-1.154315</td>\n",
       "      <td>-2.344112</td>\n",
       "      <td>-0.276889</td>\n",
       "      <td>-0.671721</td>\n",
       "      <td>-1.402369</td>\n",
       "      <td>-0.749472</td>\n",
       "      <td>0</td>\n",
       "    </tr>\n",
       "    <tr>\n",
       "      <th>1</th>\n",
       "      <td>-2.272506</td>\n",
       "      <td>1.106710</td>\n",
       "      <td>0.644907</td>\n",
       "      <td>-1.739205</td>\n",
       "      <td>-0.322992</td>\n",
       "      <td>-1.570785</td>\n",
       "      <td>1.555199</td>\n",
       "      <td>-1.114532</td>\n",
       "      <td>-2.274621</td>\n",
       "      <td>-0.118879</td>\n",
       "      <td>0</td>\n",
       "    </tr>\n",
       "    <tr>\n",
       "      <th>2</th>\n",
       "      <td>-1.315657</td>\n",
       "      <td>0.283053</td>\n",
       "      <td>1.657337</td>\n",
       "      <td>1.119688</td>\n",
       "      <td>0.013667</td>\n",
       "      <td>0.752199</td>\n",
       "      <td>-0.368619</td>\n",
       "      <td>0.807046</td>\n",
       "      <td>-0.339311</td>\n",
       "      <td>0.392204</td>\n",
       "      <td>0</td>\n",
       "    </tr>\n",
       "    <tr>\n",
       "      <th>3</th>\n",
       "      <td>-1.325351</td>\n",
       "      <td>1.502734</td>\n",
       "      <td>0.269946</td>\n",
       "      <td>-1.780626</td>\n",
       "      <td>-0.880073</td>\n",
       "      <td>-1.717930</td>\n",
       "      <td>0.091168</td>\n",
       "      <td>0.788204</td>\n",
       "      <td>0.776229</td>\n",
       "      <td>-0.547307</td>\n",
       "      <td>0</td>\n",
       "    </tr>\n",
       "    <tr>\n",
       "      <th>4</th>\n",
       "      <td>-1.267889</td>\n",
       "      <td>-0.790771</td>\n",
       "      <td>0.952897</td>\n",
       "      <td>-0.073107</td>\n",
       "      <td>-0.670780</td>\n",
       "      <td>-0.682904</td>\n",
       "      <td>0.176484</td>\n",
       "      <td>0.451226</td>\n",
       "      <td>1.015937</td>\n",
       "      <td>-0.233383</td>\n",
       "      <td>0</td>\n",
       "    </tr>\n",
       "  </tbody>\n",
       "</table>\n",
       "</div>"
      ],
      "text/plain": [
       "   Feature1  Feature2  Feature3  Feature4  Feature5  Feature6  Feature7  \\\n",
       "0 -1.670810 -0.555017  0.222569 -1.254161 -1.154315 -2.344112 -0.276889   \n",
       "1 -2.272506  1.106710  0.644907 -1.739205 -0.322992 -1.570785  1.555199   \n",
       "2 -1.315657  0.283053  1.657337  1.119688  0.013667  0.752199 -0.368619   \n",
       "3 -1.325351  1.502734  0.269946 -1.780626 -0.880073 -1.717930  0.091168   \n",
       "4 -1.267889 -0.790771  0.952897 -0.073107 -0.670780 -0.682904  0.176484   \n",
       "\n",
       "   Feature8  Feature9  Feature10  Target  \n",
       "0 -0.671721 -1.402369  -0.749472       0  \n",
       "1 -1.114532 -2.274621  -0.118879       0  \n",
       "2  0.807046 -0.339311   0.392204       0  \n",
       "3  0.788204  0.776229  -0.547307       0  \n",
       "4  0.451226  1.015937  -0.233383       0  "
      ]
     },
     "execution_count": 2,
     "metadata": {},
     "output_type": "execute_result"
    }
   ],
   "source": [
    "df.head()"
   ]
  },
  {
   "cell_type": "code",
   "execution_count": 7,
   "id": "f6eac107-091a-4cd4-bf5f-b92dda107211",
   "metadata": {},
   "outputs": [
    {
     "data": {
      "text/plain": [
       "0    950\n",
       "1     50\n",
       "Name: Target, dtype: int64"
      ]
     },
     "execution_count": 7,
     "metadata": {},
     "output_type": "execute_result"
    }
   ],
   "source": [
    "df['Target'].value_counts()"
   ]
  },
  {
   "cell_type": "code",
   "execution_count": 8,
   "id": "046cfd13-31b5-46d7-b7e0-39f06184bf26",
   "metadata": {},
   "outputs": [],
   "source": [
    "df_majority=df[df['Target']==0]"
   ]
  },
  {
   "cell_type": "code",
   "execution_count": 9,
   "id": "aece1c61-f6e6-4dc8-b97a-80d05a3e30c9",
   "metadata": {},
   "outputs": [],
   "source": [
    "df_minority=df[df['Target']==1]"
   ]
  },
  {
   "cell_type": "code",
   "execution_count": 10,
   "id": "c08da0b9-f088-4967-ba54-85be82010e96",
   "metadata": {},
   "outputs": [],
   "source": [
    "from sklearn.utils import resample"
   ]
  },
  {
   "cell_type": "code",
   "execution_count": 11,
   "id": "6e54af2c-02fb-4d44-b868-9e3e7b5dbd13",
   "metadata": {},
   "outputs": [],
   "source": [
    "df_upsample=resample(df_minority,replace='True',n_samples=len(df_majority))"
   ]
  },
  {
   "cell_type": "code",
   "execution_count": 16,
   "id": "fc731225-0d28-4baa-af82-41e3aaa7d77e",
   "metadata": {},
   "outputs": [],
   "source": [
    "df_new_sample=pd.concat([df_upsample,df_majority])"
   ]
  },
  {
   "cell_type": "code",
   "execution_count": 17,
   "id": "b4826016-7251-4ec1-b868-d99a6445480c",
   "metadata": {},
   "outputs": [
    {
     "data": {
      "text/plain": [
       "1    950\n",
       "0    950\n",
       "Name: Target, dtype: int64"
      ]
     },
     "execution_count": 17,
     "metadata": {},
     "output_type": "execute_result"
    }
   ],
   "source": [
    "df_new_sample['Target'].value_counts()"
   ]
  },
  {
   "cell_type": "code",
   "execution_count": null,
   "id": "0a7e711c-0e60-4d2a-b002-d0d10d1ce648",
   "metadata": {},
   "outputs": [],
   "source": []
  }
 ],
 "metadata": {
  "kernelspec": {
   "display_name": "Python 3 (ipykernel)",
   "language": "python",
   "name": "python3"
  },
  "language_info": {
   "codemirror_mode": {
    "name": "ipython",
    "version": 3
   },
   "file_extension": ".py",
   "mimetype": "text/x-python",
   "name": "python",
   "nbconvert_exporter": "python",
   "pygments_lexer": "ipython3",
   "version": "3.10.8"
  }
 },
 "nbformat": 4,
 "nbformat_minor": 5
}
